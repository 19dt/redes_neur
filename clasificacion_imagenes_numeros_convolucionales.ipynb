{
 "cells": [
  {
   "cell_type": "code",
   "execution_count": 1,
   "id": "ff44d13d",
   "metadata": {},
   "outputs": [],
   "source": [
    "# Vamos a utilizar las redes neuronales pero esta vez convolucionales para realizarlo de forma avanzada\n",
    "# Nos basamos en un dataset de numeros escritos a mano"
   ]
  },
  {
   "cell_type": "code",
   "execution_count": 6,
   "id": "0918c8f3",
   "metadata": {},
   "outputs": [
    {
     "name": "stderr",
     "output_type": "stream",
     "text": [
      "2023-12-08 11:33:49.451315: W tensorflow/core/kernels/data/cache_dataset_ops.cc:858] The calling iterator did not fully read the dataset being cached. In order to avoid unexpected truncation of the dataset, the partially cached contents of the dataset  will be discarded. This can happen if you have an input pipeline similar to `dataset.cache().take(k).repeat()`. You should use `dataset.take(k).cache().repeat()` instead.\n",
      "2023-12-08 11:33:49.451383: W tensorflow/core/kernels/data/cache_dataset_ops.cc:858] The calling iterator did not fully read the dataset being cached. In order to avoid unexpected truncation of the dataset, the partially cached contents of the dataset  will be discarded. This can happen if you have an input pipeline similar to `dataset.cache().take(k).repeat()`. You should use `dataset.take(k).cache().repeat()` instead.\n"
     ]
    },
    {
     "data": {
      "image/png": "[encoded data removed]",
      "text/plain": [
       "<Figure size 720x720 with 25 Axes>"
      ]
     },
     "metadata": {},
     "output_type": "display_data"
    }
   ],
   "source": [
    "import tensorflow as tf\n",
    "import tensorflow_datasets as tfds\n",
    "import matplotlib.pyplot as plt\n",
    "\n",
    "\n",
    "# Descargamos el set de datos de MNIST (Números escritos a mano, etiquetados)\n",
    "datos, metadatos = tfds.load('mnist', as_supervised = True, with_info = True)\n",
    "\n",
    "# Obtenemos en variable separadas los datos de entrenamiento (60k) y pruebas (10k)\n",
    "datos_entrenamiento, datos_pruebas= datos['train'], datos['test']\n",
    "\n",
    "# Realizamos la funcion de normalizacion para normalizar todos los valores (Pasar el valor de px a 0-255)\n",
    "# Con esto hacemos que la red aprenda mejor y más rapido\n",
    "\n",
    "def normalizar(imagenes, etiquetas):\n",
    "    imagenes = tf.cast(imagenes, tf.float32)\n",
    "    imagenes /= 255\n",
    "    return imagenes, etiquetas\n",
    "\n",
    "# Normalizamos los datos de entrenamiento con la función que hicimos\n",
    "datos_entrenamiento = datos_entrenamiento.map(normalizar)\n",
    "datos_pruebas = datos_pruebas.map(normalizar)\n",
    "\n",
    "# Agregamos a cache (usamos memoria en vez de disco, entrenamiento mas rapido)\n",
    "datos_entrenamiento = datos_entrenamiento.cache()\n",
    "datos_pruebas = datos_pruebas.cache()\n",
    "\n",
    "clases = ['0','1','2','3','4','5','6','7','8','9']\n",
    "\n",
    "plt.figure(figsize=(10,10))\n",
    "\n",
    "for i, (imagen, etiqueta) in enumerate(datos_entrenamiento.take(25)):\n",
    "    imagen = imagen.numpy().reshape((28,28))\n",
    "    plt.subplot(5,5,i+1)\n",
    "    plt.xticks([])\n",
    "    plt.yticks([])\n",
    "    plt.grid(False)\n",
    "    plt.imshow(imagen,cmap=plt.cm.binary)\n",
    "    plt.xlabel(clases[etiqueta])\n",
    "    \n",
    "plt.show()"
   ]
  },
  {
   "cell_type": "code",
   "execution_count": 7,
   "id": "6d9b80fd",
   "metadata": {},
   "outputs": [],
   "source": [
    "# Creamos el modelo (Modelo dennso, regular, sin redes convolucionales todavia)\n",
    "\n",
    "# Modelo regular\n",
    "#modelo = tf.keras.Sequential([\n",
    "#   tf.keras.layers.Flatten(input_shape=(28,28,1)), # 28 px x 28 y el 1 es para un solo canal al ser B&N\n",
    "#   tf.keras.layers.Dense(units=50, activation='relu'),\n",
    "#   tf.keras.layers.Dense(units=50, activation='relu'),\n",
    "#\n",
    "\n",
    "# Modelo convolucional, hay dos funciones más para hacer la red mas robusta (aumento de datos y dropout)\n",
    "modelo = tf.keras.Sequential([\n",
    "    tf.keras.layers.Conv2D(32, (3,3), input_shape= (28,28,1), activation='relu'),\n",
    "    tf.keras.layers.MaxPooling2D(2,2), # 2,2 es el tamaño de la matriz\n",
    "    \n",
    "    tf.keras.layers.Conv2D(64,(3,3), input_shape= (28,28,1), activation='relu'),\n",
    "    tf.keras.layers.MaxPooling2D(2,2), # 2,2 es el tamaño de la matriz\n",
    "    \n",
    "    # Dropout, se utiliza para que no haya descompensacion en los pesos de las redes, las neuronas se apagan aleatoreamente y se pongan a trabajar\n",
    "    tf.keras.layers.Dropout(0.5),\n",
    "    \n",
    "    tf.keras.layers.Flatten(),\n",
    "    tf.keras.layers.Dense(units=100, activation='relu'),\n",
    "    tf.keras.layers.Dense(10,activation='softmax')\n",
    "    \n",
    "])\n",
    "\n",
    "# Compilamos el modelo\n",
    "modelo.compile(\n",
    "    optimizer='adam',\n",
    "    loss = tf.keras.losses.SparseCategoricalCrossentropy(),\n",
    "    metrics = ['accuracy']\n",
    ")"
   ]
  },
  {
   "cell_type": "code",
   "execution_count": 8,
   "id": "1bc72e1a",
   "metadata": {},
   "outputs": [],
   "source": [
    "# Los numeros de datos de entrenamiento y pruebas (60k y 10k)\n",
    "num_datos_entrenamiento = metadatos.splits[\"train\"].num_examples\n",
    "num_datos_pruebas = metadatos.splits[\"test\"].num_examples\n",
    "\n",
    "# Trabajar por lotes\n",
    "TAMANO_LOTE = 32\n",
    "\n",
    "# Shuffle y repeat hacen que los datos estén mezclados de manera aleatoria\n",
    "# para que el entrenamiento no se aprenda las cosas en orden\n",
    "datos_entrenamiento = datos_entrenamiento.repeat().shuffle(num_datos_entrenamiento).batch(TAMANO_LOTE)\n",
    "datos_pruebas = datos_pruebas.batch(TAMANO_LOTE)"
   ]
  },
  {
   "cell_type": "code",
   "execution_count": null,
   "id": "9f27f5a3",
   "metadata": {},
   "outputs": [
    {
     "name": "stdout",
     "output_type": "stream",
     "text": [
      "Epoch 1/5\n",
      "1701/1875 [==========================>...] - ETA: 2s - loss: 0.1761 - accuracy: 0.9448"
     ]
    }
   ],
   "source": [
    "# Realizamos el entrenamiento por 60 epocas\n",
    "import math\n",
    "\n",
    "historial = modelo.fit(\n",
    "    datos_entrenamiento,\n",
    "    epochs=5,\n",
    "    steps_per_epoch=math.ceil(num_datos_entrenamiento/TAMANO_LOTE)\n",
    ")"
   ]
  },
  {
   "cell_type": "code",
   "execution_count": null,
   "id": "598c14cd",
   "metadata": {},
   "outputs": [],
   "source": [
    "# Exportamos el modelo al explorador\n",
    "modelo.save('numeros.h5')\n",
    "\n",
    "# Convertirmos a tensorflow.js\n",
    "!pip install tensorflowjs\n",
    "\n",
    "!mkdir carpeta_salida1\n",
    "\n",
    "!tensorflowjs_converter --input_format keras numeros.h5 carpeta_salida1"
   ]
  },
  {
   "cell_type": "code",
   "execution_count": null,
   "id": "6887b3b7",
   "metadata": {},
   "outputs": [],
   "source": []
  }
 ],
 "metadata": {
  "kernelspec": {
   "display_name": "Python 3 (ipykernel)",
   "language": "python",
   "name": "python3"
  },
  "language_info": {
   "codemirror_mode": {
    "name": "ipython",
    "version": 3
   },
   "file_extension": ".py",
   "mimetype": "text/x-python",
   "name": "python",
   "nbconvert_exporter": "python",
   "pygments_lexer": "ipython3",
   "version": "3.9.12"
  }
 },
 "nbformat": 4,
 "nbformat_minor": 5
}
