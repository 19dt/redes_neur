{
 "cells": [
  {
   "cell_type": "code",
   "execution_count": 1,
   "id": "3fe4fd0e",
   "metadata": {},
   "outputs": [],
   "source": [
    "# RED NEURONAL CON PY Y TS"
   ]
  },
  {
   "cell_type": "markdown",
   "id": "73a0264d",
   "metadata": {},
   "source": [
    "## REDES CONVOLUCIONALES Y REGULARES"
   ]
  },
  {
   "cell_type": "markdown",
   "id": "6e663057",
   "metadata": {},
   "source": [
    "### Aprendizaje automático VS Programación regular\n",
    "- Programacion regular: programamos algoritmos para convertir entradas en resultados, escribiendo las reglas y lógicas necesarias para lograrlo.\n",
    "\n",
    "- Aprendizaje automático: contamos con una lista de entrada y resultados pero no necesariamente conocemos el algoritmo que puede hacer esa conversión. Por ello hay que crear un modelo que pueda crear esas entradas, los resultados esperados de cada entrada y pueda aprender por si solo el algoritmo necesario para hacer la conversión."
   ]
  },
  {
   "cell_type": "code",
   "execution_count": 4,
   "id": "c9de0f01",
   "metadata": {},
   "outputs": [],
   "source": [
    "# CELSIUS A FAHRENHEIT\n",
    "# Las redes neuronales se separan en CAPAS , cada capa puede tener una o más neuronas.\n",
    "# Normalmente tienen una capa de entrada (Celsius) y debe de tener una capa de salida (obtendremos el resultado calculado Fahrenheit)\n",
    "# Las neuronas se conectan con CONEXIONES con un peso asignado (valor numerico que representa la importancia de la conexion de las neuronas)\n",
    "# Cada neurona tiene un Sesgo (valor numerico)\n",
    "# Tambien existe la funcion de activación"
   ]
  },
  {
   "cell_type": "code",
   "execution_count": 1,
   "id": "91a61ff6",
   "metadata": {},
   "outputs": [
    {
     "name": "stderr",
     "output_type": "stream",
     "text": [
      "2023-11-21 16:22:09.823186: I tensorflow/core/platform/cpu_feature_guard.cc:182] This TensorFlow binary is optimized to use available CPU instructions in performance-critical operations.\n",
      "To enable the following instructions: AVX2 FMA, in other operations, rebuild TensorFlow with the appropriate compiler flags.\n",
      "/opt/anaconda3/lib/python3.9/site-packages/scipy/__init__.py:146: UserWarning: A NumPy version >=1.16.5 and <1.23.0 is required for this version of SciPy (detected version 1.26.2\n",
      "  warnings.warn(f\"A NumPy version >={np_minversion} and <{np_maxversion}\"\n"
     ]
    }
   ],
   "source": [
    "import tensorflow as tf\n",
    "import numpy as np"
   ]
  },
  {
   "cell_type": "code",
   "execution_count": 2,
   "id": "345de711",
   "metadata": {},
   "outputs": [],
   "source": [
    "celsius = np.array([-40, -10, 0, 8, 15, 22, 38], dtype = float)\n",
    "fahrenheit = np.array([-40, 14, 32, 46, 59, 72, 100], dtype= float)"
   ]
  },
  {
   "cell_type": "code",
   "execution_count": 7,
   "id": "c98b08b3",
   "metadata": {},
   "outputs": [
    {
     "name": "stdout",
     "output_type": "stream",
     "text": [
      "Comenzando a entrenar el modelo\n",
      "Modelo entrenado\n"
     ]
    }
   ],
   "source": [
    "#capa = tf.keras.layers.Dense(units= 1, input_shape=[1])\n",
    "#modelo = tf.keras.Sequential([capa])\n",
    "\n",
    "oculta1 = tf.keras.layers.Dense(units=3, input_shape=[1]) \n",
    "oculta2 = tf.keras.layers.Dense(units=3)\n",
    "salida = tf.keras.layers.Dense(units=1)\n",
    "modelo = tf.keras.Sequential([oculta1,oculta2,salida])\n",
    "\n",
    "\n",
    "modelo.compile(\n",
    "    optimizer = tf.keras.optimizers.Adam(0.1),\n",
    "    loss = 'mean_squared_error'\n",
    ")\n",
    "print('Comenzando a entrenar el modelo')\n",
    "historia = modelo.fit(celsius, fahrenheit, epochs=1000, verbose = False)\n",
    "print('Modelo entrenado')"
   ]
  },
  {
   "cell_type": "code",
   "execution_count": 9,
   "id": "e11fb210",
   "metadata": {},
   "outputs": [
    {
     "data": {
      "text/plain": [
       "[<matplotlib.lines.Line2D at 0x7fce6c8655b0>]"
      ]
     },
     "execution_count": 9,
     "metadata": {},
     "output_type": "execute_result"
    },
    {
     "data": {
      "image/png": "[encoded data removed]",
      "text/plain": [
       "<Figure size 432x288 with 1 Axes>"
      ]
     },
     "metadata": {
      "needs_background": "light"
     },
     "output_type": "display_data"
    }
   ],
   "source": [
    "import matplotlib.pyplot as plt\n",
    "plt.xlabel(\"# Epoca\")\n",
    "plt.ylabel(\"Magnitud de perdida\")\n",
    "plt.plot(historia.history[\"loss\"])"
   ]
  },
  {
   "cell_type": "code",
   "execution_count": 10,
   "id": "5b37154a",
   "metadata": {},
   "outputs": [
    {
     "name": "stdout",
     "output_type": "stream",
     "text": [
      "Hagamos una prediccion!\n",
      "1/1 [==============================] - 0s 65ms/step\n",
      "El resultado es [[211.74745]]fahrenheit!!\n"
     ]
    }
   ],
   "source": [
    "print('Hagamos una prediccion!')\n",
    "resultado = modelo.predict([100.0])\n",
    "print('El resultado es ' + str(resultado) + 'fahrenheit!!')"
   ]
  },
  {
   "cell_type": "code",
   "execution_count": 12,
   "id": "7b75dd81",
   "metadata": {},
   "outputs": [
    {
     "name": "stdout",
     "output_type": "stream",
     "text": [
      "Variables internas del modelo\n",
      "[array([[-0.10545617, -0.39438415,  0.38197964]], dtype=float32), array([ 0.26201534, -4.2136364 ,  4.246618  ], dtype=float32)]\n",
      "[array([[ 0.070236  ,  0.49975562, -0.3572586 ],\n",
      "       [ 0.82010305, -0.05451408,  1.4894272 ],\n",
      "       [-0.18148273,  0.9099852 , -1.6160238 ]], dtype=float32), array([-2.8186426,  1.7708963, -4.459167 ], dtype=float32)]\n",
      "[array([[-0.4819674 ],\n",
      "       [ 0.19956233],\n",
      "       [-1.3212653 ]], dtype=float32), array([3.9944828], dtype=float32)]\n"
     ]
    }
   ],
   "source": [
    "# Vamos a ver la estructura interna de la red y que datos se asignaron despues del entrenamiento, la conexion y el sesgo\n",
    "print(\"Variables internas del modelo\")\n",
    "#print(capa.get_weights())\n",
    "\n",
    "# Veamos los pesos y los sesgos\n",
    "print(oculta1.get_weights())\n",
    "print(oculta2.get_weights())\n",
    "print(salida.get_weights())"
   ]
  },
  {
   "cell_type": "code",
   "execution_count": null,
   "id": "b6ce1652",
   "metadata": {},
   "outputs": [],
   "source": [
    "# AÑADIMOS MAS CAPAS Y MAS NEURONAS A LA RED (ARRIBA COMENTADO AÑADIENDO DOS CAPAS INTERMEDIAS CON TRES NEURONAS)\n"
   ]
  }
 ],
 "metadata": {
  "kernelspec": {
   "display_name": "Python 3 (ipykernel)",
   "language": "python",
   "name": "python3"
  },
  "language_info": {
   "codemirror_mode": {
    "name": "ipython",
    "version": 3
   },
   "file_extension": ".py",
   "mimetype": "text/x-python",
   "name": "python",
   "nbconvert_exporter": "python",
   "pygments_lexer": "ipython3",
   "version": "3.9.12"
  }
 },
 "nbformat": 4,
 "nbformat_minor": 5
}
